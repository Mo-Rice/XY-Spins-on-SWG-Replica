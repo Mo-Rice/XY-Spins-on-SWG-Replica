{
 "cells": [
  {
   "cell_type": "code",
   "execution_count": 123,
   "metadata": {},
   "outputs": [],
   "source": [
    "import numpy as np\n",
    "import numba as nb\n",
    "import matplotlib.pyplot as plt\n",
    "import time\n",
    "from math import sin\n",
    "from numpy import sum, zeros\n",
    "import copy\n",
    "\n",
    "\n",
    "# Helper Functions\n",
    "def finite(N: int, c: float) -> np.ndarray:\n",
    "    \"\"\"\n",
    "    Generates the adjacency matrix of the finite connectivity graph\n",
    "\n",
    "    Args:\n",
    "        N (int): Number of XY spins in the network\n",
    "        c (float): Average connectivity\n",
    "\n",
    "    Returns:\n",
    "        array: Finite connectivity graph adjacency matrix\n",
    "    \"\"\"\n",
    "    A = np.random.uniform(0, 1, size=(N, N))\n",
    "    A_mask = np.triu((A < c/N).astype(int), k=1)\n",
    "    A_symm = (A_mask + A_mask.T) \n",
    "    return A_symm\n",
    "\n",
    "\n",
    "def ring(N: int) -> np.ndarray:\n",
    "    \"\"\"\n",
    "    Generates the adjacency matrix of the ring\n",
    "\n",
    "    Args:\n",
    "        N (int): Number of XY spins in the network\n",
    "\n",
    "    Returns:\n",
    "        array: Ring adjacency matrix\n",
    "    \"\"\"\n",
    "    A = np.zeros((N, N))\n",
    "    pos = 0\n",
    "\n",
    "    for i in range(N):\n",
    "        A[i][(pos+1) % N] = 1\n",
    "        A[i][(pos-1) % N] = 1\n",
    "        pos += 1\n",
    "    return A.astype(int)\n",
    "    \n",
    "\n",
    "# Network Parameters\n",
    "N = 1000            # Numbers of Spings\n",
    "c = 10              # Finite Connectivity\n",
    "J = 0.0             # Finite Graph Strength\n",
    "J0 = 1.0            # Ring Strength\n",
    "\n",
    "# Simulation Parameters\n",
    "T = 1               # Temperature\n",
    "dt = 0.1           # Time Step\n",
    "n = int(np.sqrt(N)) # Number of Runs (computed as sqrt(N) for proper stats)\n",
    "n_s = int((N/dt))   # Number of Steps Per Run (computed to allow enough time for system to evolve)\n",
    "b_n = 1000          # Burn-in Time\n",
    "\n",
    "# Simulation Containers\n",
    "s_0 = np.random.uniform(-1,1, N)*np.pi # Initial State\n",
    "s_n = np.zeros((n, N))            # Samples\n",
    "A_r = ring(N)\n",
    "A_f = finite(N, c)\n"
   ]
  },
  {
   "cell_type": "code",
   "execution_count": 73,
   "metadata": {},
   "outputs": [],
   "source": [
    "def force(spins: np.ndarray, A_r: np.ndarray, A_f: np.ndarray, J: float, J0: float) -> np.ndarray:\n",
    "    \"\"\"\n",
    "    Computes the force vector for the current state of the system\n",
    "\n",
    "    Returns:\n",
    "        array: _description_\n",
    "    \"\"\"\n",
    "    s_outer = np.subtract.outer(spins, spins)\n",
    "    s_ring = s_outer * A_r\n",
    "    s_finite = s_outer * A_f\n",
    "    f = np.add(J0 * np.sum(np.sin(s_ring), axis=0), J * np.sum(np.sin(s_finite), axis=0))\n",
    "    return f"
   ]
  },
  {
   "cell_type": "code",
   "execution_count": 148,
   "metadata": {},
   "outputs": [],
   "source": [
    "@nb.njit(parallel=True, cache=True)\n",
    "def force2(spins: np.ndarray, A_r: np.ndarray, A_f: np.ndarray, J: float, J0: float) -> np.ndarray:\n",
    "    t = zeros((N,N))\n",
    "    for i in range(N):\n",
    "        for j in range(N):\n",
    "            t[i, j] = spins[i] - spins[j]\n",
    "    t = np.sin(t)\n",
    "    return J*sum(t*A_f, axis=0) + J0*sum(t*A_r, axis=0)"
   ]
  },
  {
   "cell_type": "code",
   "execution_count": 150,
   "metadata": {},
   "outputs": [
    {
     "name": "stdout",
     "output_type": "stream",
     "text": [
      "0.013799190521240234\n",
      "0.02227497100830078\n"
     ]
    }
   ],
   "source": [
    "t_0 = time.time()\n",
    "a = force2(s_0, A_r, A_f, J, J0)\n",
    "print(time.time()-t_0)\n",
    "\n",
    "t_0 = time.time()\n",
    "b = force(s_0, A_r, A_f, J, J0)\n",
    "print(time.time()-t_0)\n"
   ]
  },
  {
   "cell_type": "code",
   "execution_count": 195,
   "metadata": {},
   "outputs": [],
   "source": [
    "@nb.njit(parallel=True)\n",
    "def loop(s: np.ndarray, n: int, A_r: np.ndarray, A_f: np.ndarray, J: float, J0: float, T:float, dt: float) -> np.ndarray:\n",
    "    #np.random.seed()\n",
    "    l = s.size\n",
    "    for i in range(n):\n",
    "        noise = np.empty(l)\n",
    "        for ii in range(l):\n",
    "            noise[ii] = np.random.normal()\n",
    "        s += (force2(s, A_r, A_f, J, J0)*dt +  noise* np.sqrt(2 * T * dt))\n",
    "\n",
    "    return s"
   ]
  },
  {
   "cell_type": "code",
   "execution_count": 198,
   "metadata": {},
   "outputs": [
    {
     "name": "stdout",
     "output_type": "stream",
     "text": [
      "1.1574270725250244\n",
      "1.0986077785491943\n"
     ]
    }
   ],
   "source": [
    "t0 = time.time()\n",
    "t = loop(s_0, 100, A_r, A_f, J, J0, T, dt)\n",
    "print(time.time()-t0)\n",
    "\n",
    "t0 = time.time()\n",
    "t = loop2(s_0, 100, A_r, A_f, J, J0, T, dt)\n",
    "print(time.time()-t0)"
   ]
  },
  {
   "cell_type": "code",
   "execution_count": 192,
   "metadata": {},
   "outputs": [],
   "source": [
    "def loop2(s: np.ndarray, n: int, A_r: np.ndarray, A_f: np.ndarray, J: float, J0: float, T:float, dt: float) -> np.ndarray:\n",
    "    for i in range(n):\n",
    "        s += (force2(s, A_r, A_f, J, J0)*dt +  np.random.normal(size=s.size)* np.sqrt(2 * T * dt))\n",
    "\n",
    "    return s"
   ]
  },
  {
   "cell_type": "code",
   "execution_count": 173,
   "metadata": {},
   "outputs": [
    {
     "data": {
      "text/plain": [
       "0.35489165840916476"
      ]
     },
     "execution_count": 173,
     "metadata": {},
     "output_type": "execute_result"
    }
   ],
   "source": [
    "np.random.normal()"
   ]
  },
  {
   "cell_type": "code",
   "execution_count": 175,
   "metadata": {},
   "outputs": [
    {
     "data": {
      "text/plain": [
       "1000"
      ]
     },
     "execution_count": 175,
     "metadata": {},
     "output_type": "execute_result"
    }
   ],
   "source": [
    "s_0.size"
   ]
  },
  {
   "cell_type": "code",
   "execution_count": null,
   "metadata": {},
   "outputs": [],
   "source": []
  }
 ],
 "metadata": {
  "kernelspec": {
   "display_name": "Python 3 (ipykernel)",
   "language": "python",
   "name": "python3"
  },
  "language_info": {
   "codemirror_mode": {
    "name": "ipython",
    "version": 3
   },
   "file_extension": ".py",
   "mimetype": "text/x-python",
   "name": "python",
   "nbconvert_exporter": "python",
   "pygments_lexer": "ipython3",
   "version": "3.10.8"
  },
  "vscode": {
   "interpreter": {
    "hash": "568c5236bbdbe268b2f5ab3dd1748b9027365319cef82821cc4936bc56f8aa45"
   }
  }
 },
 "nbformat": 4,
 "nbformat_minor": 4
}
